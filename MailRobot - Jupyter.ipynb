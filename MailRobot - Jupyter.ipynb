{
 "cells": [
  {
   "cell_type": "code",
   "execution_count": 1,
   "metadata": {},
   "outputs": [
    {
     "name": "stdout",
     "output_type": "stream",
     "text": [
      "Waiting\n",
      "Press the key combination: ctrl+alt\n",
      "Waiting\n",
      "Press the key combination: ctrl+alt\n",
      "Waiting\n",
      "Press the key combination: ctrl+alt\n",
      "Sent\n",
      "Waiting\n",
      "Press the key combination: ctrl+alt\n"
     ]
    }
   ],
   "source": [
    "# Created to send a message to a WhatsApp group when a notification arrives, but Windows 11 notifications prevent completing the idea.\n",
    "from selenium import webdriver\n",
    "from webdriver_manager.chrome import ChromeDriverManager\n",
    "import time\n",
    "import pyautogui\n",
    "import keyboard\n",
    "\n",
    "def notification_action(message):\n",
    "    print(\"Notification received! Performing action...\")\n",
    "    time.sleep(1)\n",
    "    pyautogui.moveTo(-1066, 810)\n",
    "    pyautogui.click()\n",
    "    pyautogui.typewrite(message, interval=0.1)\n",
    "    pyautogui.press(\"enter\")\n",
    "    print(\"Success\")\n",
    "\n",
    "def wait_for_key_combination(keys):\n",
    "    print(\"Press the key combination:\", keys)\n",
    "    while not keyboard.is_pressed(keys):\n",
    "        pass\n",
    "\n",
    "# Create a ChromeDriver instance using Webdriver-Manager and open WhatsApp.\n",
    "driver = webdriver.Chrome()\n",
    "driver.get('https://web.whatsapp.com/')\n",
    "time.sleep(2)\n",
    "\n",
    "# Drag to the other window.\n",
    "pyautogui.moveTo(498, 27)\n",
    "pyautogui.dragTo(-600, 0, 1)\n",
    "\n",
    "print(\"Waiting\")\n",
    "wait_for_key_combination(\"ctrl+alt\")\n",
    "\n",
    "# Update WhatsApp.\n",
    "pyautogui.moveTo(-1731, 349)\n",
    "pyautogui.click()\n",
    "\n",
    "print(\"Waiting\")\n",
    "wait_for_key_combination(\"ctrl+alt\")\n",
    "\n",
    "# Clear notifications, click on the group, then the chat - ready to write.\n",
    "pyautogui.moveTo(-1476, 336)\n",
    "pyautogui.click()\n",
    "time.sleep(1)\n",
    "pyautogui.moveTo(-1650, 369)\n",
    "pyautogui.click()\n",
    "\n",
    "\n",
    "# Click on the chat, write the text, send, and it's ready.\n",
    "pyautogui.moveTo(-1066, 810)\n",
    "pyautogui.click()\n",
    "message = \"AnonDesk Online!\"\n",
    "pyautogui.typewrite(message, interval=0.05)\n",
    "pyautogui.press(\"enter\")\n",
    "print(\"Sent\")\n",
    "\n",
    "print(\"listening\")\n",
    "wait_for_key_combination(\"ctrl+alt\")\n",
    "\n",
    "#while True:\n",
    "    # the idea is to listen to the win notifications an send a message on whatsapp"
   ]
  },
  {
   "cell_type": "code",
   "execution_count": null,
   "metadata": {},
   "outputs": [],
   "source": []
  }
 ],
 "metadata": {
  "kernelspec": {
   "display_name": "Python 3",
   "language": "python",
   "name": "python3"
  },
  "language_info": {
   "codemirror_mode": {
    "name": "ipython",
    "version": 3
   },
   "file_extension": ".py",
   "mimetype": "text/x-python",
   "name": "python",
   "nbconvert_exporter": "python",
   "pygments_lexer": "ipython3",
   "version": "3.11.4"
  },
  "orig_nbformat": 4
 },
 "nbformat": 4,
 "nbformat_minor": 2
}
